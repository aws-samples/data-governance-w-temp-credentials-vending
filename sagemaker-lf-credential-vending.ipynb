{
 "cells": [
  {
   "cell_type": "markdown",
   "metadata": {
    "tags": []
   },
   "source": [
    "# SageMaker Processing Job & LakeFormation Integration - Vend Temporary Credentials to read data from S3 in a `Pandas` and `Spark` dataframe\n",
    "---\n",
    "\n",
    "This example shows how to use LakeFormation's `credential vending capability` from within a SageMaker Processing Job and based on that, query `LakeFormation` to see which `columns` does a `Role` being used have access to from the table being queried from Amazon S3.\n",
    "\n",
    "### Before running this notebook, read the following roles required, steps and permissions to be assigned given in the [README.md](/README.md) file."
   ]
  },
  {
   "cell_type": "code",
   "execution_count": null,
   "metadata": {
    "tags": []
   },
   "outputs": [],
   "source": [
    "# This cell only needs to be run once\n",
    "# Setup - Run only once per Kernel App\n",
    "%conda install https://anaconda.org/conda-forge/openjdk/11.0.1/download/linux-64/openjdk-11.0.1-hacce0ff_1021.tar.bz2\n",
    "\n",
    "# install PySpark\n",
    "%pip install pyspark==3.4.0\n",
    "\n",
    "# restart kernel\n",
    "from IPython.core.display import HTML\n",
    "HTML(\"<script>Jupyter.notebook.kernel.restart()</script>\")"
   ]
  },
  {
   "cell_type": "code",
   "execution_count": null,
   "metadata": {
    "tags": []
   },
   "outputs": [],
   "source": [
    "# import libraries\n",
    "import os\n",
    "import sys\n",
    "import json\n",
    "import boto3\n",
    "import logging\n",
    "import pandas as pd\n",
    "from io import StringIO\n",
    "from typing import List, Dict\n",
    "from sagemaker import get_execution_role\n",
    "from botocore.exceptions import ClientError\n",
    "# import scripts as modules to grant fine-grained permissions\n",
    "# and read data from S3 in pandas and spark\n",
    "from lf_vend_credentials import get_lf_temp_credentials\n",
    "from read_data import read_pandas_lf_data, read_spark_lf_data"
   ]
  },
  {
   "cell_type": "code",
   "execution_count": null,
   "metadata": {
    "tags": []
   },
   "outputs": [],
   "source": [
    "# set a logger\n",
    "logging.basicConfig(format='[%(asctime)s] p%(process)s {%(filename)s:%(lineno)d} %(levelname)s - %(message)s', level=logging.INFO)\n",
    "logger = logging.getLogger(__name__)"
   ]
  },
  {
   "cell_type": "markdown",
   "metadata": {},
   "source": [
    "#### If you have a table/database that already exists, replace the variable names below with your resource names, and skip the steps to create the Database and Table"
   ]
  },
  {
   "cell_type": "code",
   "execution_count": null,
   "metadata": {
    "tags": []
   },
   "outputs": [],
   "source": [
    "REGION = boto3.session.Session().region_name\n",
    "\n",
    "# initialize the sessions that will be used for creation of tables, databases, and calling the APIs\n",
    "lf_session = boto3.session.Session(region_name=REGION)\n",
    "lf_client = lf_session.client('lakeformation')\n",
    "glue_client = lf_session.client('glue')\n",
    "sts_client = lf_session.client('sts')\n",
    "\n",
    "# Initialize the account ID, caller ARN, table database name of your choice, and the bucket name (that you will create associated to the table and DB path)\n",
    "ACCOUNT_ID: str = sts_client.get_caller_identity()['Account'] \n",
    "CALLER_ARN: str = sts_client.get_caller_identity()['Arn']\n",
    "# Replace with your database and table name if this already exists\n",
    "DATABASE_NAME: str = f'cred_vending_test_db_{ACCOUNT_ID}'\n",
    "TABLE_NAME: str = f'cred_vending_test_table_{ACCOUNT_ID}'\n",
    "# replace with your bucket name here\n",
    "BUCKET_NAME: str = 'cred-vending-test-bucket'\n",
    "DUMMY_CSV_FILE: str = f'dummy_data_{ACCOUNT_ID}.csv'\n",
    "\n",
    "# Initialize the db and table location in s3  - register the s3 location with a relevant role and grant access for the sagemaker execution and admin role to the database and table\n",
    "DATABASE_S3_LOCATION: str = f's3://{BUCKET_NAME}/{DATABASE_NAME}'\n",
    "TABLE_S3_LOCATION: str = f'{DATABASE_S3_LOCATION}/{TABLE_NAME}'\n",
    "\n",
    "# Catalog id is the account id, set the name of the IAM role to be given fine-grained access to below\n",
    "ASSUMED_ROLE_NAME: str = 'lf_role_assumed'\n",
    "SAGEMAKER_EXECUTION_ROLE_NAME: str = get_execution_role()\n",
    "CATALOG_ID: str = ACCOUNT_ID # abstract the role name and account ID\n",
    "LF_ROLE_TO_ASSUME: str = f'arn:aws:iam::{ACCOUNT_ID}:role/{ASSUMED_ROLE_NAME}'\n",
    "# Set appropriate IAM and lakeformation permissions for this role in your aws account. Follow the README.md for detailed instructions\n",
    "SAGEMAKER_ROLE_ARN: str = f'arn:aws:iam::{ACCOUNT_ID}:role/service-role/{SAGEMAKER_EXECUTION_ROLE_NAME}'\n",
    "logger.info(f\"DB path location: {DATABASE_S3_LOCATION}, Table path location: {TABLE_S3_LOCATION}\")\n",
    "\n",
    "# Add your lakeformation session tag value below that you set on the console. For more instructions, \n",
    "# view: https://docs.aws.amazon.com/lake-formation/latest/dg/full-table-credential-vending.html\n",
    "lf_tag_value: str = 'sessionfortag'\n",
    "logger.info(f\"SageMaker execution role being used for this notebook: {SAGEMAKER_EXECUTION_ROLE_NAME}\")"
   ]
  },
  {
   "cell_type": "markdown",
   "metadata": {},
   "source": [
    "### Create a Database and Glue Table (Skip this following step if you already have a database and a Glue table in your account):\n",
    "\n",
    "Add the `sagemaker-execution-role` as an the administrator in the lakeformation console. Make sure to give this role full access to your specific `database` **AND** `table`.\n",
    "\n",
    "***Skip this step if you have a database and table already created. Make sure to use the table location for your Glue Data Catalogue to read from s3 later***"
   ]
  },
  {
   "cell_type": "code",
   "execution_count": null,
   "metadata": {
    "tags": []
   },
   "outputs": [],
   "source": [
    "# create a database using the database name and database location\n",
    "try:\n",
    "    glue_client.create_database(\n",
    "        DatabaseInput = {\n",
    "            'Name': DATABASE_NAME,\n",
    "            'LocationUri' : DATABASE_S3_LOCATION\n",
    "        }\n",
    "    )\n",
    "except Exception as e:\n",
    "    logger.error(f\"the database could not be created: {e}\")\n",
    "\n",
    "# create a table using the table name, location, and table description\n",
    "try:\n",
    "    glue_client.create_table(\n",
    "        DatabaseName=DATABASE_NAME,\n",
    "        TableInput={\n",
    "            'Name': TABLE_NAME,\n",
    "            'StorageDescriptor': {\n",
    "                'Columns': [\n",
    "                    {'Name': 'customer_id','Type': 'bigint'},\n",
    "                    {'Name': 'prefix','Type': 'string'},\n",
    "                    {'Name': 'first_name','Type': 'string'},\n",
    "                    {'Name': 'middle_name','Type': 'string'},\n",
    "                    {'Name': 'last_name','Type': 'string'},\n",
    "                    {'Name': 'suffix','Type': 'string'},\n",
    "                    {'Name': 'gender','Type': 'string'},\n",
    "                    {'Name': 'dob','Type': 'string'},\n",
    "                    {'Name': 'phone','Type': 'string'},\n",
    "                    {'Name': 'building_number','Type': 'bigint'},\n",
    "                    {'Name': 'street_name','Type': 'string'},\n",
    "                    {'Name': 'city','Type': 'string'},\n",
    "                    {'Name': 'cust_zip','Type': 'bigint'},\n",
    "                    {'Name': 'country','Type': 'string' }\n",
    "                ],\n",
    "                'Location': TABLE_S3_LOCATION,\n",
    "                'InputFormat': 'org.apache.hadoop.mapred.TextInputFormat',\n",
    "                'OutputFormat': 'org.apache.hadoop.hive.ql.io.HiveIgnoreKeyTextOutputFormat',\n",
    "                'Compressed': False,\n",
    "                'NumberOfBuckets': 0,\n",
    "                'SerdeInfo': {\n",
    "                    'SerializationLibrary': 'org.apache.hadoop.hive.serde2.OpenCSVSerde',\n",
    "                    'Parameters': {\n",
    "                        'separatorChar': ','\n",
    "                    }\n",
    "                },\n",
    "                'SortColumns': [],\n",
    "                'StoredAsSubDirectories': False\n",
    "            },\n",
    "            'PartitionKeys': [],\n",
    "            'TableType': 'EXTERNAL_TABLE',\n",
    "            'Parameters': {\n",
    "                'classification': 'csv',\n",
    "                'lakeformation.aso.status': 'false'\n",
    "            }\n",
    "        }\n",
    "    )\n",
    "except Exception as e:\n",
    "    logger.error(f\"the table could not be created: {e}\")\n"
   ]
  },
  {
   "cell_type": "markdown",
   "metadata": {},
   "source": [
    "### Inserting sample data in the Glue Table S3 Path\n",
    "---\n",
    "\n",
    "If you already have data in s3, then run the crawler and skip the step below. Replace the `DUMMY_CSV_FILE`, `DATABASE_S3_LOCATION`, and `TABLE_S3_LOCATION` with pre-configured resources if they already exist in your account. If not, follow the steps below to insert dummy data in the `S3_path` that corresponds to your Glue Data Catalog.\n",
    "\n",
    "***For this next cell, if you want to insert data in your S3 bucket, give put object access to the SageMaker Execution role for that `S3_path`, else insert it manually. You can choose not to run the step below***"
   ]
  },
  {
   "cell_type": "code",
   "execution_count": null,
   "metadata": {
    "tags": []
   },
   "outputs": [],
   "source": [
    "# Insert dummy data and send the table to the given s3 path for the table (this is an optional step, you will have to run the crawler\n",
    "# on your existing files in s3 to create a table). We are inserting this data to see the effect of granting fine grained access\n",
    "# to a role and getting only the metadata that that role has fine grained access to.\n",
    "\n",
    "# Sample data for insertion\n",
    "data = pd.DataFrame({\n",
    "    'customer_id': [1, 2],\n",
    "    'prefix': ['Mr.', 'Ms.'],\n",
    "    'first_name': ['Madhur', 'Jane'],\n",
    "    'middle_name': ['A', 'B'],\n",
    "    'last_name': ['Prashant', 'Doe'],\n",
    "    'suffix': ['Jr', 'Sr'],\n",
    "    'gender': ['Male', 'Female'],\n",
    "    'dob': ['2020-01-01', '1992-02-02'],\n",
    "    'phone': ['1234', '5678'],\n",
    "    'building_number': [123, 456],\n",
    "    'street_name': ['cunard St', 'cunard St'],\n",
    "    'city': ['city1', 'city2'],\n",
    "    'cust_zip': [1111, 2222],\n",
    "    'country': ['US', 'INDIA']\n",
    "})\n",
    "\n",
    "# Convert data to CSV\n",
    "csv_buffer = StringIO()\n",
    "data.to_csv(csv_buffer, index=False)\n",
    "s3_resource = boto3.resource('s3')\n",
    "\n",
    "try:\n",
    "    object_key = f\"{DATABASE_NAME}/{TABLE_NAME}/{DUMMY_CSV_FILE}\" \n",
    "    logger.info(f\"object key for the csv file: {object_key}\")\n",
    "    # add put object for this s3 bucket in the sagemaker execution role to run this cell\n",
    "    s3_resource.Object(BUCKET_NAME, object_key).put(Body=csv_buffer.getvalue())\n",
    "    logger.info(f\"sample data successfully uploaded to {TABLE_S3_LOCATION}\")\n",
    "except Exception as e:\n",
    "    logger.error(f\"Failed to upload data to {TABLE_S3_LOCATION}: {e}\")"
   ]
  },
  {
   "cell_type": "code",
   "execution_count": null,
   "metadata": {
    "tags": []
   },
   "outputs": [],
   "source": [
    "# view the metadata of the entire data that is sent to Amazon S3\n",
    "data.head()"
   ]
  },
  {
   "cell_type": "markdown",
   "metadata": {},
   "source": [
    "#### Enable `AllowFullTableExternalDataAccess` in the `DataLakeSettings` using the `get_data_lake_settings` API to be able to get temporary credentials to get access to the glue table"
   ]
  },
  {
   "cell_type": "code",
   "execution_count": null,
   "metadata": {
    "tags": []
   },
   "outputs": [],
   "source": [
    "settings = lf_client.get_data_lake_settings()\n",
    "\n",
    "# Set the `AllowFullTableExternalDataAccess` in the settings for datalake to True for this role, in order to vend temporary glue table credentials\n",
    "if 'AllowFullTableExternalDataAccess' not in settings['DataLakeSettings'] or settings['DataLakeSettings']['AllowFullTableExternalDataAccess'] == False:\n",
    "    settings_raw = settings['DataLakeSettings']\n",
    "    settings_raw['AllowFullTableExternalDataAccess'] = True\n",
    "    lf_client.put_data_lake_settings(DataLakeSettings=settings_raw)\n",
    "\n",
    "logger.info(f\"Data lake settings: {json.dumps(settings, indent=2)}\")"
   ]
  },
  {
   "cell_type": "markdown",
   "metadata": {},
   "source": [
    "These are the credentials that are used by the role to get access to a database/table or fine grained access to certain columns."
   ]
  },
  {
   "cell_type": "code",
   "execution_count": null,
   "metadata": {
    "tags": []
   },
   "outputs": [],
   "source": [
    "# This is the format that is followed for the table arn. For more information, view: \n",
    "# https://repost.aws/questions/QU6S243zI_SQKYlezRl_Efqg/how-to-get-arn-for-lake-formation-table\n",
    "TableArn=f'arn:aws:glue:{REGION}:{ACCOUNT_ID}:table/{DATABASE_NAME}/{TABLE_NAME}'\n",
    "TableArn"
   ]
  },
  {
   "cell_type": "code",
   "execution_count": null,
   "metadata": {
    "tags": []
   },
   "outputs": [],
   "source": [
    "# This works because the user has full table access, and the AllowFullTableExternalDataAccess is enabled\n",
    "resp = lf_client.get_temporary_glue_table_credentials(\n",
    "    TableArn=TableArn,\n",
    "    Permissions=[ 'ALL' ],\n",
    "    SupportedPermissionTypes=['COLUMN_PERMISSION'],\n",
    ")\n",
    "print(f\"Access Key: {resp['AccessKeyId']} Expiration: {resp['Expiration']}\")"
   ]
  },
  {
   "cell_type": "markdown",
   "metadata": {
    "tags": []
   },
   "source": [
    "### Lakeformation Fine-Grained Access:\n",
    "---\n",
    "In this section, we call three functions: `get_lf_temp_credentials` to grant fine-grained access on the `LF_ROLE_TO_ASSUME` role and vend temporary glue table credentials, `read_pandas_lf_data` to read data from S3 in a pandas dataframe, and `read_spark_lf_data` to read data from S3 in a spark dataframe."
   ]
  },
  {
   "cell_type": "code",
   "execution_count": null,
   "metadata": {
    "tags": []
   },
   "outputs": [],
   "source": [
    "# This function call returns a dictionary that contains temporary glue table credentials, s3_path to the glue data catalog, file type, \n",
    "# to read metadata from and authorized columns\n",
    "table_info_and_credentials = get_lf_temp_credentials(role=LF_ROLE_TO_ASSUME,\n",
    "                                                        db_name=DATABASE_NAME,\n",
    "                                                        table_name=TABLE_NAME,\n",
    "                                                        columns=['street_name', 'city', 'cust_zip'],  \n",
    "                                                        lf_tag_value=lf_tag_value)"
   ]
  },
  {
   "cell_type": "markdown",
   "metadata": {},
   "source": [
    "### Read Data from S3 using the Temporary credentials and s3_path\n",
    "---\n",
    "\n",
    "Read data in a `pandas dataframe`"
   ]
  },
  {
   "cell_type": "code",
   "execution_count": null,
   "metadata": {
    "tags": []
   },
   "outputs": [],
   "source": [
    "# reading data using the temporary vended credentials into a pandas dataframe \n",
    "extracted_pandas_df = read_pandas_lf_data(table_info_and_credentials\n",
    "                                          =table_info_and_credentials)\n",
    "# View metadata on columns that the role has fine grained access on\n",
    "extracted_pandas_df"
   ]
  },
  {
   "cell_type": "markdown",
   "metadata": {},
   "source": [
    "Read data in a `spark dataframe`"
   ]
  },
  {
   "cell_type": "code",
   "execution_count": null,
   "metadata": {},
   "outputs": [],
   "source": [
    "# reading data using the temporary vended credentials into a pandas dataframe \n",
    "extracted_spark_df = read_spark_lf_data(table_info_and_credentials\n",
    "                                          =table_info_and_credentials, \n",
    "                                           use_s3a = True) # add the s3 bool\n",
    "extracted_spark_df"
   ]
  },
  {
   "attachments": {
    "fdfcf311-327c-4e26-b630-26fc524118f7.png": {
     "image/png": "[encoded data removed]"
    }
   },
   "cell_type": "markdown",
   "metadata": {},
   "source": [
    "***Now, you can see that the second assumed role has been granted fine grained access to columns\n",
    "\n",
    "![Screenshot 2024-05-03 at 9.45.20 AM.png](attachment:fdfcf311-327c-4e26-b630-26fc524118f7.png)"
   ]
  }
 ],
 "metadata": {
  "availableInstances": [
   {
    "_defaultOrder": 0,
    "_isFastLaunch": true,
    "category": "General purpose",
    "gpuNum": 0,
    "hideHardwareSpecs": false,
    "memoryGiB": 4,
    "name": "ml.t3.medium",
    "vcpuNum": 2
   },
   {
    "_defaultOrder": 1,
    "_isFastLaunch": false,
    "category": "General purpose",
    "gpuNum": 0,
    "hideHardwareSpecs": false,
    "memoryGiB": 8,
    "name": "ml.t3.large",
    "vcpuNum": 2
   },
   {
    "_defaultOrder": 2,
    "_isFastLaunch": false,
    "category": "General purpose",
    "gpuNum": 0,
    "hideHardwareSpecs": false,
    "memoryGiB": 16,
    "name": "ml.t3.xlarge",
    "vcpuNum": 4
   },
   {
    "_defaultOrder": 3,
    "_isFastLaunch": false,
    "category": "General purpose",
    "gpuNum": 0,
    "hideHardwareSpecs": false,
    "memoryGiB": 32,
    "name": "ml.t3.2xlarge",
    "vcpuNum": 8
   },
   {
    "_defaultOrder": 4,
    "_isFastLaunch": true,
    "category": "General purpose",
    "gpuNum": 0,
    "hideHardwareSpecs": false,
    "memoryGiB": 8,
    "name": "ml.m5.large",
    "vcpuNum": 2
   },
   {
    "_defaultOrder": 5,
    "_isFastLaunch": false,
    "category": "General purpose",
    "gpuNum": 0,
    "hideHardwareSpecs": false,
    "memoryGiB": 16,
    "name": "ml.m5.xlarge",
    "vcpuNum": 4
   },
   {
    "_defaultOrder": 6,
    "_isFastLaunch": false,
    "category": "General purpose",
    "gpuNum": 0,
    "hideHardwareSpecs": false,
    "memoryGiB": 32,
    "name": "ml.m5.2xlarge",
    "vcpuNum": 8
   },
   {
    "_defaultOrder": 7,
    "_isFastLaunch": false,
    "category": "General purpose",
    "gpuNum": 0,
    "hideHardwareSpecs": false,
    "memoryGiB": 64,
    "name": "ml.m5.4xlarge",
    "vcpuNum": 16
   },
   {
    "_defaultOrder": 8,
    "_isFastLaunch": false,
    "category": "General purpose",
    "gpuNum": 0,
    "hideHardwareSpecs": false,
    "memoryGiB": 128,
    "name": "ml.m5.8xlarge",
    "vcpuNum": 32
   },
   {
    "_defaultOrder": 9,
    "_isFastLaunch": false,
    "category": "General purpose",
    "gpuNum": 0,
    "hideHardwareSpecs": false,
    "memoryGiB": 192,
    "name": "ml.m5.12xlarge",
    "vcpuNum": 48
   },
   {
    "_defaultOrder": 10,
    "_isFastLaunch": false,
    "category": "General purpose",
    "gpuNum": 0,
    "hideHardwareSpecs": false,
    "memoryGiB": 256,
    "name": "ml.m5.16xlarge",
    "vcpuNum": 64
   },
   {
    "_defaultOrder": 11,
    "_isFastLaunch": false,
    "category": "General purpose",
    "gpuNum": 0,
    "hideHardwareSpecs": false,
    "memoryGiB": 384,
    "name": "ml.m5.24xlarge",
    "vcpuNum": 96
   },
   {
    "_defaultOrder": 12,
    "_isFastLaunch": false,
    "category": "General purpose",
    "gpuNum": 0,
    "hideHardwareSpecs": false,
    "memoryGiB": 8,
    "name": "ml.m5d.large",
    "vcpuNum": 2
   },
   {
    "_defaultOrder": 13,
    "_isFastLaunch": false,
    "category": "General purpose",
    "gpuNum": 0,
    "hideHardwareSpecs": false,
    "memoryGiB": 16,
    "name": "ml.m5d.xlarge",
    "vcpuNum": 4
   },
   {
    "_defaultOrder": 14,
    "_isFastLaunch": false,
    "category": "General purpose",
    "gpuNum": 0,
    "hideHardwareSpecs": false,
    "memoryGiB": 32,
    "name": "ml.m5d.2xlarge",
    "vcpuNum": 8
   },
   {
    "_defaultOrder": 15,
    "_isFastLaunch": false,
    "category": "General purpose",
    "gpuNum": 0,
    "hideHardwareSpecs": false,
    "memoryGiB": 64,
    "name": "ml.m5d.4xlarge",
    "vcpuNum": 16
   },
   {
    "_defaultOrder": 16,
    "_isFastLaunch": false,
    "category": "General purpose",
    "gpuNum": 0,
    "hideHardwareSpecs": false,
    "memoryGiB": 128,
    "name": "ml.m5d.8xlarge",
    "vcpuNum": 32
   },
   {
    "_defaultOrder": 17,
    "_isFastLaunch": false,
    "category": "General purpose",
    "gpuNum": 0,
    "hideHardwareSpecs": false,
    "memoryGiB": 192,
    "name": "ml.m5d.12xlarge",
    "vcpuNum": 48
   },
   {
    "_defaultOrder": 18,
    "_isFastLaunch": false,
    "category": "General purpose",
    "gpuNum": 0,
    "hideHardwareSpecs": false,
    "memoryGiB": 256,
    "name": "ml.m5d.16xlarge",
    "vcpuNum": 64
   },
   {
    "_defaultOrder": 19,
    "_isFastLaunch": false,
    "category": "General purpose",
    "gpuNum": 0,
    "hideHardwareSpecs": false,
    "memoryGiB": 384,
    "name": "ml.m5d.24xlarge",
    "vcpuNum": 96
   },
   {
    "_defaultOrder": 20,
    "_isFastLaunch": false,
    "category": "General purpose",
    "gpuNum": 0,
    "hideHardwareSpecs": true,
    "memoryGiB": 0,
    "name": "ml.geospatial.interactive",
    "supportedImageNames": [
     "sagemaker-geospatial-v1-0"
    ],
    "vcpuNum": 0
   },
   {
    "_defaultOrder": 21,
    "_isFastLaunch": true,
    "category": "Compute optimized",
    "gpuNum": 0,
    "hideHardwareSpecs": false,
    "memoryGiB": 4,
    "name": "ml.c5.large",
    "vcpuNum": 2
   },
   {
    "_defaultOrder": 22,
    "_isFastLaunch": false,
    "category": "Compute optimized",
    "gpuNum": 0,
    "hideHardwareSpecs": false,
    "memoryGiB": 8,
    "name": "ml.c5.xlarge",
    "vcpuNum": 4
   },
   {
    "_defaultOrder": 23,
    "_isFastLaunch": false,
    "category": "Compute optimized",
    "gpuNum": 0,
    "hideHardwareSpecs": false,
    "memoryGiB": 16,
    "name": "ml.c5.2xlarge",
    "vcpuNum": 8
   },
   {
    "_defaultOrder": 24,
    "_isFastLaunch": false,
    "category": "Compute optimized",
    "gpuNum": 0,
    "hideHardwareSpecs": false,
    "memoryGiB": 32,
    "name": "ml.c5.4xlarge",
    "vcpuNum": 16
   },
   {
    "_defaultOrder": 25,
    "_isFastLaunch": false,
    "category": "Compute optimized",
    "gpuNum": 0,
    "hideHardwareSpecs": false,
    "memoryGiB": 72,
    "name": "ml.c5.9xlarge",
    "vcpuNum": 36
   },
   {
    "_defaultOrder": 26,
    "_isFastLaunch": false,
    "category": "Compute optimized",
    "gpuNum": 0,
    "hideHardwareSpecs": false,
    "memoryGiB": 96,
    "name": "ml.c5.12xlarge",
    "vcpuNum": 48
   },
   {
    "_defaultOrder": 27,
    "_isFastLaunch": false,
    "category": "Compute optimized",
    "gpuNum": 0,
    "hideHardwareSpecs": false,
    "memoryGiB": 144,
    "name": "ml.c5.18xlarge",
    "vcpuNum": 72
   },
   {
    "_defaultOrder": 28,
    "_isFastLaunch": false,
    "category": "Compute optimized",
    "gpuNum": 0,
    "hideHardwareSpecs": false,
    "memoryGiB": 192,
    "name": "ml.c5.24xlarge",
    "vcpuNum": 96
   },
   {
    "_defaultOrder": 29,
    "_isFastLaunch": true,
    "category": "Accelerated computing",
    "gpuNum": 1,
    "hideHardwareSpecs": false,
    "memoryGiB": 16,
    "name": "ml.g4dn.xlarge",
    "vcpuNum": 4
   },
   {
    "_defaultOrder": 30,
    "_isFastLaunch": false,
    "category": "Accelerated computing",
    "gpuNum": 1,
    "hideHardwareSpecs": false,
    "memoryGiB": 32,
    "name": "ml.g4dn.2xlarge",
    "vcpuNum": 8
   },
   {
    "_defaultOrder": 31,
    "_isFastLaunch": false,
    "category": "Accelerated computing",
    "gpuNum": 1,
    "hideHardwareSpecs": false,
    "memoryGiB": 64,
    "name": "ml.g4dn.4xlarge",
    "vcpuNum": 16
   },
   {
    "_defaultOrder": 32,
    "_isFastLaunch": false,
    "category": "Accelerated computing",
    "gpuNum": 1,
    "hideHardwareSpecs": false,
    "memoryGiB": 128,
    "name": "ml.g4dn.8xlarge",
    "vcpuNum": 32
   },
   {
    "_defaultOrder": 33,
    "_isFastLaunch": false,
    "category": "Accelerated computing",
    "gpuNum": 4,
    "hideHardwareSpecs": false,
    "memoryGiB": 192,
    "name": "ml.g4dn.12xlarge",
    "vcpuNum": 48
   },
   {
    "_defaultOrder": 34,
    "_isFastLaunch": false,
    "category": "Accelerated computing",
    "gpuNum": 1,
    "hideHardwareSpecs": false,
    "memoryGiB": 256,
    "name": "ml.g4dn.16xlarge",
    "vcpuNum": 64
   },
   {
    "_defaultOrder": 35,
    "_isFastLaunch": false,
    "category": "Accelerated computing",
    "gpuNum": 1,
    "hideHardwareSpecs": false,
    "memoryGiB": 61,
    "name": "ml.p3.2xlarge",
    "vcpuNum": 8
   },
   {
    "_defaultOrder": 36,
    "_isFastLaunch": false,
    "category": "Accelerated computing",
    "gpuNum": 4,
    "hideHardwareSpecs": false,
    "memoryGiB": 244,
    "name": "ml.p3.8xlarge",
    "vcpuNum": 32
   },
   {
    "_defaultOrder": 37,
    "_isFastLaunch": false,
    "category": "Accelerated computing",
    "gpuNum": 8,
    "hideHardwareSpecs": false,
    "memoryGiB": 488,
    "name": "ml.p3.16xlarge",
    "vcpuNum": 64
   },
   {
    "_defaultOrder": 38,
    "_isFastLaunch": false,
    "category": "Accelerated computing",
    "gpuNum": 8,
    "hideHardwareSpecs": false,
    "memoryGiB": 768,
    "name": "ml.p3dn.24xlarge",
    "vcpuNum": 96
   },
   {
    "_defaultOrder": 39,
    "_isFastLaunch": false,
    "category": "Memory Optimized",
    "gpuNum": 0,
    "hideHardwareSpecs": false,
    "memoryGiB": 16,
    "name": "ml.r5.large",
    "vcpuNum": 2
   },
   {
    "_defaultOrder": 40,
    "_isFastLaunch": false,
    "category": "Memory Optimized",
    "gpuNum": 0,
    "hideHardwareSpecs": false,
    "memoryGiB": 32,
    "name": "ml.r5.xlarge",
    "vcpuNum": 4
   },
   {
    "_defaultOrder": 41,
    "_isFastLaunch": false,
    "category": "Memory Optimized",
    "gpuNum": 0,
    "hideHardwareSpecs": false,
    "memoryGiB": 64,
    "name": "ml.r5.2xlarge",
    "vcpuNum": 8
   },
   {
    "_defaultOrder": 42,
    "_isFastLaunch": false,
    "category": "Memory Optimized",
    "gpuNum": 0,
    "hideHardwareSpecs": false,
    "memoryGiB": 128,
    "name": "ml.r5.4xlarge",
    "vcpuNum": 16
   },
   {
    "_defaultOrder": 43,
    "_isFastLaunch": false,
    "category": "Memory Optimized",
    "gpuNum": 0,
    "hideHardwareSpecs": false,
    "memoryGiB": 256,
    "name": "ml.r5.8xlarge",
    "vcpuNum": 32
   },
   {
    "_defaultOrder": 44,
    "_isFastLaunch": false,
    "category": "Memory Optimized",
    "gpuNum": 0,
    "hideHardwareSpecs": false,
    "memoryGiB": 384,
    "name": "ml.r5.12xlarge",
    "vcpuNum": 48
   },
   {
    "_defaultOrder": 45,
    "_isFastLaunch": false,
    "category": "Memory Optimized",
    "gpuNum": 0,
    "hideHardwareSpecs": false,
    "memoryGiB": 512,
    "name": "ml.r5.16xlarge",
    "vcpuNum": 64
   },
   {
    "_defaultOrder": 46,
    "_isFastLaunch": false,
    "category": "Memory Optimized",
    "gpuNum": 0,
    "hideHardwareSpecs": false,
    "memoryGiB": 768,
    "name": "ml.r5.24xlarge",
    "vcpuNum": 96
   },
   {
    "_defaultOrder": 47,
    "_isFastLaunch": false,
    "category": "Accelerated computing",
    "gpuNum": 1,
    "hideHardwareSpecs": false,
    "memoryGiB": 16,
    "name": "ml.g5.xlarge",
    "vcpuNum": 4
   },
   {
    "_defaultOrder": 48,
    "_isFastLaunch": false,
    "category": "Accelerated computing",
    "gpuNum": 1,
    "hideHardwareSpecs": false,
    "memoryGiB": 32,
    "name": "ml.g5.2xlarge",
    "vcpuNum": 8
   },
   {
    "_defaultOrder": 49,
    "_isFastLaunch": false,
    "category": "Accelerated computing",
    "gpuNum": 1,
    "hideHardwareSpecs": false,
    "memoryGiB": 64,
    "name": "ml.g5.4xlarge",
    "vcpuNum": 16
   },
   {
    "_defaultOrder": 50,
    "_isFastLaunch": false,
    "category": "Accelerated computing",
    "gpuNum": 1,
    "hideHardwareSpecs": false,
    "memoryGiB": 128,
    "name": "ml.g5.8xlarge",
    "vcpuNum": 32
   },
   {
    "_defaultOrder": 51,
    "_isFastLaunch": false,
    "category": "Accelerated computing",
    "gpuNum": 1,
    "hideHardwareSpecs": false,
    "memoryGiB": 256,
    "name": "ml.g5.16xlarge",
    "vcpuNum": 64
   },
   {
    "_defaultOrder": 52,
    "_isFastLaunch": false,
    "category": "Accelerated computing",
    "gpuNum": 4,
    "hideHardwareSpecs": false,
    "memoryGiB": 192,
    "name": "ml.g5.12xlarge",
    "vcpuNum": 48
   },
   {
    "_defaultOrder": 53,
    "_isFastLaunch": false,
    "category": "Accelerated computing",
    "gpuNum": 4,
    "hideHardwareSpecs": false,
    "memoryGiB": 384,
    "name": "ml.g5.24xlarge",
    "vcpuNum": 96
   },
   {
    "_defaultOrder": 54,
    "_isFastLaunch": false,
    "category": "Accelerated computing",
    "gpuNum": 8,
    "hideHardwareSpecs": false,
    "memoryGiB": 768,
    "name": "ml.g5.48xlarge",
    "vcpuNum": 192
   },
   {
    "_defaultOrder": 55,
    "_isFastLaunch": false,
    "category": "Accelerated computing",
    "gpuNum": 8,
    "hideHardwareSpecs": false,
    "memoryGiB": 1152,
    "name": "ml.p4d.24xlarge",
    "vcpuNum": 96
   },
   {
    "_defaultOrder": 56,
    "_isFastLaunch": false,
    "category": "Accelerated computing",
    "gpuNum": 8,
    "hideHardwareSpecs": false,
    "memoryGiB": 1152,
    "name": "ml.p4de.24xlarge",
    "vcpuNum": 96
   },
   {
    "_defaultOrder": 57,
    "_isFastLaunch": false,
    "category": "Accelerated computing",
    "gpuNum": 0,
    "hideHardwareSpecs": false,
    "memoryGiB": 32,
    "name": "ml.trn1.2xlarge",
    "vcpuNum": 8
   },
   {
    "_defaultOrder": 58,
    "_isFastLaunch": false,
    "category": "Accelerated computing",
    "gpuNum": 0,
    "hideHardwareSpecs": false,
    "memoryGiB": 512,
    "name": "ml.trn1.32xlarge",
    "vcpuNum": 128
   },
   {
    "_defaultOrder": 59,
    "_isFastLaunch": false,
    "category": "Accelerated computing",
    "gpuNum": 0,
    "hideHardwareSpecs": false,
    "memoryGiB": 512,
    "name": "ml.trn1n.32xlarge",
    "vcpuNum": 128
   }
  ],
  "instance_type": "ml.t3.medium",
  "kernelspec": {
   "display_name": "Python 3 (Data Science 3.0)",
   "language": "python",
   "name": "python3__SAGEMAKER_INTERNAL__arn:aws:sagemaker:us-east-1:081325390199:image/sagemaker-data-science-310-v1"
  },
  "language_info": {
   "codemirror_mode": {
    "name": "ipython",
    "version": 3
   },
   "file_extension": ".py",
   "mimetype": "text/x-python",
   "name": "python",
   "nbconvert_exporter": "python",
   "pygments_lexer": "ipython3",
   "version": "3.10.6"
  }
 },
 "nbformat": 4,
 "nbformat_minor": 4
}
